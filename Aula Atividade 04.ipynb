{
  "nbformat": 4,
  "nbformat_minor": 0,
  "metadata": {
    "colab": {
      "provenance": [],
      "authorship_tag": "ABX9TyOBuXlE2HmUTeppxB8JJ5bi",
      "include_colab_link": true
    },
    "kernelspec": {
      "name": "python3",
      "display_name": "Python 3"
    },
    "language_info": {
      "name": "python"
    }
  },
  "cells": [
    {
      "cell_type": "markdown",
      "metadata": {
        "id": "view-in-github",
        "colab_type": "text"
      },
      "source": [
        "<a href=\"https://colab.research.google.com/github/Thaissklein/Ola_Mundo_Aula_Anhanguera/blob/main/Aula%20Atividade%2004.ipynb\" target=\"_parent\"><img src=\"https://colab.research.google.com/assets/colab-badge.svg\" alt=\"Open In Colab\"/></a>"
      ]
    },
    {
      "cell_type": "markdown",
      "source": [
        "Nome: Thais da Silva Klein Pereira\n",
        "Matrícula: 3482813201\n",
        "Aula 04 - Analise e Desenvolvimento de Sistemas"
      ],
      "metadata": {
        "id": "nFZv7AByDSkO"
      }
    },
    {
      "cell_type": "code",
      "execution_count": 2,
      "metadata": {
        "colab": {
          "base_uri": "https://localhost:8080/"
        },
        "id": "-HdcHdTMBqt0",
        "outputId": "39766ed5-b4e8-44a3-a107-de8248d2407e"
      },
      "outputs": [
        {
          "output_type": "stream",
          "name": "stdout",
          "text": [
            "Olá mundo\n"
          ]
        }
      ],
      "source": [
        "print (\"Olá mundo\")"
      ]
    }
  ]
}