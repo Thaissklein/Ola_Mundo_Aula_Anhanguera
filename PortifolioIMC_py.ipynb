{
  "nbformat": 4,
  "nbformat_minor": 0,
  "metadata": {
    "colab": {
      "provenance": [],
      "authorship_tag": "ABX9TyM2N5f5JT166wKCKNuBU7y1",
      "include_colab_link": true
    },
    "kernelspec": {
      "name": "python3",
      "display_name": "Python 3"
    },
    "language_info": {
      "name": "python"
    }
  },
  "cells": [
    {
      "cell_type": "markdown",
      "metadata": {
        "id": "view-in-github",
        "colab_type": "text"
      },
      "source": [
        "<a href=\"https://colab.research.google.com/github/Thaissklein/Ola_Mundo_Aula_Anhanguera/blob/main/PortifolioIMC_py.ipynb\" target=\"_parent\"><img src=\"https://colab.research.google.com/assets/colab-badge.svg\" alt=\"Open In Colab\"/></a>"
      ]
    },
    {
      "cell_type": "code",
      "execution_count": null,
      "metadata": {
        "id": "btawvKF0ZAEM"
      },
      "outputs": [],
      "source": [
        "def calcular_imc (peso, altura):\n",
        "    alturametro = altura / 100\n",
        "    imc = peso / (altura ** 2)\n",
        "    return imc\n",
        "\n",
        "def resultado_imc (imc):\n",
        "    if imc < 16:\n",
        "        return \"magreza 3 grau\"\n",
        "    elif 16 <= imc < 16.9:\n",
        "        return \"magreza 2 grau\"\n",
        "    elif 17 <= imc < 18.4:\n",
        "        return \"magreza 1 grau\"\n",
        "    elif 18.5 <= imc < 24.9:\n",
        "        return \"adequado\"\n",
        "    elif 25 <= imc < 29.9:\n",
        "        return \"pré-obeso\"\n",
        "    elif 30 <= imc < 34.9:\n",
        "        return \"obesidade 1 grau\"\n",
        "    elif 35 <= imc < 39.9:\n",
        "        return \"obesidade 2 grau\"\n",
        "    else:\n",
        "        return \"obesidade 3 grau\"\n",
        "\n",
        "peso = float(input(\"Digite o seu peso: \"))\n",
        "altura = float(input(\"Digite a sua altura:\" ))\n",
        "imc = calcular_imc (peso, altura)\n",
        "clasificacao = resultado_imc(imc)\n",
        "\n",
        "print(\"Seu IMC é: {:.2f}\".format(imc))\n",
        "print(\"Sua classificação é: {}\".format(clasificacao))"
      ]
    }
  ]
}